{
 "cells": [
  {
   "cell_type": "markdown",
   "metadata": {},
   "source": [
    "#### Companysearch"
   ]
  },
  {
   "cell_type": "code",
   "execution_count": null,
   "metadata": {},
   "outputs": [],
   "source": [
    "import requests\n",
    "import json\n",
    "from pprint import pprint\n",
    "\n",
    "\n",
    "ACCESSTOKEN ='PUT_YOUR_TOKEN_HERE'\n",
    "url = 'https://www.companyhouse.de/api/v1/company'\n",
    "\n",
    "class BearerAuth(requests.auth.AuthBase):\n",
    "    def __init__(self, token):\n",
    "        self.token = token\n",
    "    def __call__(self, r):\n",
    "        r.headers[\"authorization\"] = \"Bearer \" + self.token\n",
    "        return r\n",
    "    \n",
    "# you can put here additional company fields, for more information check\n",
    "# https://www.companyhouse.de/api/docs#company-search-panel    \n",
    "query = \"{company (query:\\\"%(query_string)s\\\") {name state country city zip street}}\"\n",
    "query = query % {\"query_string\": \"PUT_YOUR_QUERY_HERE\"} \n",
    "\n",
    "response = requests.post(url, auth=BearerAuth(ACCESSTOKEN), json={'query': query})\n",
    "\n",
    "pprint(response.json())"
   ]
  },
  {
   "cell_type": "markdown",
   "metadata": {},
   "source": [
    "As an example by querying \"GmbH\", we get the following output."
   ]
  },
  {
   "cell_type": "code",
   "execution_count": 13,
   "metadata": {},
   "outputs": [
    {
     "name": "stdout",
     "output_type": "stream",
     "text": [
      "{'data': {'company': [{'city': 'Reutlingen',\n",
      "                       'country': 'DE',\n",
      "                       'name': 'GmbH',\n",
      "                       'state': None,\n",
      "                       'street': 'Wilhelmstr. 44',\n",
      "                       'zip': '72764'},\n",
      "                      {'city': 'Rosenheim',\n",
      "                       'country': None,\n",
      "                       'name': 'GmbH',\n",
      "                       'state': 'Rhineland-Palatinate',\n",
      "                       'street': None,\n",
      "                       'zip': None},\n",
      "                      {'city': 'München',\n",
      "                       'country': 'DE',\n",
      "                       'name': 'GmbH',\n",
      "                       'state': None,\n",
      "                       'street': 'Am Tucherpark 16',\n",
      "                       'zip': '80538}]}}\n"
     ]
    }
   ],
   "source": [
    "query = query % {\"query_string\": \"GmbH\"}  \n"
   ]
  },
  {
   "cell_type": "markdown",
   "metadata": {},
   "source": [
    "#### Personsearch"
   ]
  },
  {
   "cell_type": "code",
   "execution_count": null,
   "metadata": {},
   "outputs": [],
   "source": [
    "import requests\n",
    "import json\n",
    "from pprint import pprint\n",
    "\n",
    "ACCESSTOKEN ='PUT_YOUR_TOKEN_HERE'\n",
    "URL = 'https://www.companyhouse.de/api/v1/person'\n",
    "\n",
    "class BearerAuth(requests.auth.AuthBase):\n",
    "    def __init__(self, token):\n",
    "        self.token = token\n",
    "    def __call__(self, r):\n",
    "        r.headers[\"authorization\"] = \"Bearer \" + self.token\n",
    "        return r\n",
    "    \n",
    "query = \"{person (query:\\\"%(query_string)s\\\") {name first_name birth_date city}}\"\n",
    "query = query % {\"query_string\": \"PUT_YOUR_QUERY_HERE\"}\n",
    "\n",
    "response = requests.post(URL, auth=BearerAuth(ACCESSTOKEN), json={'query': query})\n",
    "pprint(response.json())"
   ]
  },
  {
   "cell_type": "markdown",
   "metadata": {},
   "source": [
    "As an example by querying \"Schmidt\", we get the following output."
   ]
  },
  {
   "cell_type": "code",
   "execution_count": 18,
   "metadata": {},
   "outputs": [
    {
     "name": "stdout",
     "output_type": "stream",
     "text": [
      "{'data': {'person': [{'birth_date': None,\n",
      "                      'city': None,\n",
      "                      'first_name': 'Schmidt',\n",
      "                      'name': 'Schmidt'},\n",
      "                     {'birth_date': None,\n",
      "                      'city': None,\n",
      "                      'first_name': 'A. Elmar',\n",
      "                      'name': 'Schmidt'},\n",
      "                     {'birth_date': None,\n",
      "                      'city': 'Velbert',\n",
      "                      'first_name': 'A.',\n",
      "                      'name': 'Schmidt'}]}}\n"
     ]
    }
   ],
   "source": [
    "query = query % {\"query_string\": \"Schmidt\"}"
   ]
  },
  {
   "cell_type": "markdown",
   "metadata": {},
   "source": [
    "#### Company network"
   ]
  },
  {
   "cell_type": "code",
   "execution_count": null,
   "metadata": {},
   "outputs": [],
   "source": [
    "import requests\n",
    "import json\n",
    "from pprint import pprint\n",
    "\n",
    "ACCESSTOKEN ='PUT_YOUR_TOKEN_HERE'\n",
    "url = 'https://www.companyhouse.de/api/v1/network'\n",
    "\n",
    "class BearerAuth(requests.auth.AuthBase):\n",
    "    def __init__(self, token):\n",
    "        self.token = token\n",
    "    def __call__(self, r):\n",
    "        r.headers[\"authorization\"] = \"Bearer \" + self.token\n",
    "        return r\n",
    "    \n",
    "query ='''{node (id:\\\"%(id)s\\\", type: \\\"%(type)s\\\") {id uuid type company_name is_active city}\n",
    "        edge {start_node end_node function_id function_name start_date end_date}}\n",
    "      '''\n",
    "query= query % {\"id\": \"PUT_ID_HERE\", \"type\": \"company\"}\n",
    "\n",
    "response = requests.post(url, auth=BearerAuth(ACCESSTOKEN), json={'query': query})\n",
    "pprint(response.json())"
   ]
  },
  {
   "cell_type": "code",
   "execution_count": 39,
   "metadata": {},
   "outputs": [
    {
     "name": "stdout",
     "output_type": "stream",
     "text": [
      "{'data': {'edge': [{'end_date': '2020-08-07',\n",
      "                    'end_node': 8885522,\n",
      "                    'function_id': 30,\n",
      "                    'function_name': None,\n",
      "                    'start_date': '2013-12-09',\n",
      "                    'start_node': 11868550},\n",
      "                   {'end_date': '2021-07-27',\n",
      "                    'end_node': 8885522,\n",
      "                    'function_id': 30,\n",
      "                    'function_name': None,\n",
      "                    'start_date': '2017-07-06',\n",
      "                    'start_node': 6029274}],\n",
      "          'node': [{'city': None,\n",
      "                    'company_name': 'SCHUFA Holding AG',\n",
      "                    'id': 8885522,\n",
      "                    'is_active': True,\n",
      "                    'type': 'Company',\n",
      "                    'uuid': 'e7e70a00-d3e4-11e4-b3ef-53b449010d08'},\n",
      "                   {'city': 'Hofheim am Taunus',\n",
      "                    'company_name': None,\n",
      "                    'id': 11868550,\n",
      "                    'is_active': True,\n",
      "                    'type': 'Person',\n",
      "                    'uuid': 'fa901c40-d935-11e4-a891-53b449010d08'}]}}\n"
     ]
    }
   ],
   "source": [
    "query= query % {\"id\": \"e7e70a00-d3e4-11e4-b3ef-53b449010d08\", \"type\": \"company\"}"
   ]
  },
  {
   "cell_type": "markdown",
   "metadata": {},
   "source": [
    "#### Person network"
   ]
  },
  {
   "cell_type": "code",
   "execution_count": null,
   "metadata": {},
   "outputs": [],
   "source": [
    "import requests\n",
    "import json\n",
    "from pprint import pprint\n",
    "\n",
    "ACCESSTOKEN ='PUT_YOUR_TOKEN_HERE'\n",
    "url = 'https://www.companyhouse.de/api/v1/network'\n",
    "\n",
    "class BearerAuth(requests.auth.AuthBase):\n",
    "    def __init__(self, token):\n",
    "        self.token = token\n",
    "    def __call__(self, r):\n",
    "        r.headers[\"authorization\"] = \"Bearer \" + self.token\n",
    "        return r\n",
    "    \n",
    "query ='''{node (id:\\\"%(id)s\\\", type: \\\"%(type)s\\\") {id uuid type is_active first_name last_name birth_date \n",
    "city} edge {start_node end_node function_id function_name start_date end_date}}\n",
    "      '''\n",
    "\n",
    "query= query % {\"id\":\"PUT_ID_HERE\", \"type\": \"person\"}\n",
    "\n",
    "response = requests.post(url, auth=BearerAuth(ACCESSTOKEN), json={'query': query})\n",
    "pprint(esponse.json())"
   ]
  },
  {
   "cell_type": "markdown",
   "metadata": {},
   "source": [
    "As an example by querying id, we get the following output."
   ]
  },
  {
   "cell_type": "code",
   "execution_count": 38,
   "metadata": {},
   "outputs": [
    {
     "name": "stdout",
     "output_type": "stream",
     "text": [
      "{'data': {'edge': [{'end_date': None,\n",
      "                    'end_node': 11833853,\n",
      "                    'function_id': 1,\n",
      "                    'function_name': None,\n",
      "                    'start_date': '1997-12-23',\n",
      "                    'start_node': 12089774}],\n",
      "          'node': [{'birth_date': '1941-09-18',\n",
      "                    'city': 'Bremen',\n",
      "                    'first_name': 'Alexander',\n",
      "                    'id': 12089774,\n",
      "                    'is_active': True,\n",
      "                    'last_name': 'Boshilow',\n",
      "                    'type': 'Person',\n",
      "                    'uuid': 'e7884560-3149-11e6-b552-b16bd0367008'},\n",
      "                   {'birth_date': None,\n",
      "                    'city': None,\n",
      "                    'first_name': None,\n",
      "                    'id': 11833853,\n",
      "                    'is_active': True,\n",
      "                    'last_name': None,\n",
      "                    'type': 'Company',\n",
      "                    'uuid': 'ac0dd020-2dd1-11e6-ac52-b16bd0367008'}]}}\n"
     ]
    }
   ],
   "source": [
    "query= query % {\"id\":\"e7884560-3149-11e6-b552-b16bd0367008\", \"type\": \"person\"}"
   ]
  }
 ],
 "metadata": {
  "kernelspec": {
   "display_name": "Python 3",
   "language": "python",
   "name": "python3"
  },
  "language_info": {
   "codemirror_mode": {
    "name": "ipython",
    "version": 3
   },
   "file_extension": ".py",
   "mimetype": "text/x-python",
   "name": "python",
   "nbconvert_exporter": "python",
   "pygments_lexer": "ipython3",
   "version": "3.8.8"
  }
 },
 "nbformat": 4,
 "nbformat_minor": 4
}
